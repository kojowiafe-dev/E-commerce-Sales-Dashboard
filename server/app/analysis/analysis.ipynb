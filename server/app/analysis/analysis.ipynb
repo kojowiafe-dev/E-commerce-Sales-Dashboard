{
 "cells": [
  {
   "cell_type": "code",
   "execution_count": 14,
   "id": "2b766fc3",
   "metadata": {},
   "outputs": [],
   "source": [
    "import pandas as pd\n",
    "\n",
    "all_data = pd.read_csv(\"../data/all_data.csv\")\n",
    "\n",
    "all_data = all_data.dropna(how=\"all\")\n",
    "\n",
    "all_data = all_data.drop_duplicates()\n",
    "\n",
    "all_data[\"Price Each\"] = pd.to_numeric(all_data[\"Price Each\"], errors=\"coerce\").fillna(0)\n",
    "\n",
    "# print(all_data[\"Price Each\"].isna().sum()) # if it's 0 then there's no null value\n",
    "# print(all_data[\"Quantity Ordered\"].isna().sum())\n",
    "# print(all_data[\"Order Date\"].isna().sum())\n",
    "# print(all_data[\"Product\"].isna().sum())\n",
    "# print(all_data[\"Purchase Address\"].isna().sum())\n",
    "# print(all_data[\"Order ID\"].isna().sum())\n",
    "\n",
    "\n",
    "all_data.to_csv(\"../data/all_data_cleaned.csv\", index=False)"
   ]
  },
  {
   "cell_type": "markdown",
   "id": "068219a3",
   "metadata": {},
   "source": [
    "**DATA MANIPULATIONS**"
   ]
  },
  {
   "cell_type": "code",
   "execution_count": 15,
   "id": "9907b793",
   "metadata": {},
   "outputs": [
    {
     "data": {
      "application/vnd.microsoft.datawrangler.viewer.v0+json": {
       "columns": [
        {
         "name": "index",
         "rawType": "int64",
         "type": "integer"
        },
        {
         "name": "Order ID",
         "rawType": "object",
         "type": "string"
        },
        {
         "name": "Product",
         "rawType": "object",
         "type": "string"
        },
        {
         "name": "Quantity Ordered",
         "rawType": "object",
         "type": "string"
        },
        {
         "name": "Price Each",
         "rawType": "float64",
         "type": "float"
        },
        {
         "name": "Order Date",
         "rawType": "object",
         "type": "string"
        },
        {
         "name": "Purchase Address",
         "rawType": "object",
         "type": "string"
        }
       ],
       "ref": "14bf339b-9feb-415f-88a3-e075e10f960f",
       "rows": [
        [
         "0",
         "176558",
         "USB-C Charging Cable",
         "2",
         "11.95",
         "04/19/19 08:46",
         "917 1st St, Dallas, TX 75001"
        ],
        [
         "2",
         "176559",
         "Bose SoundSport Headphones",
         "1",
         "99.99",
         "04/07/19 22:30",
         "682 Chestnut St, Boston, MA 02215"
        ],
        [
         "3",
         "176560",
         "Google Phone",
         "1",
         "600.0",
         "04/12/19 14:38",
         "669 Spruce St, Los Angeles, CA 90001"
        ],
        [
         "4",
         "176560",
         "Wired Headphones",
         "1",
         "11.99",
         "04/12/19 14:38",
         "669 Spruce St, Los Angeles, CA 90001"
        ],
        [
         "5",
         "176561",
         "Wired Headphones",
         "1",
         "11.99",
         "04/30/19 09:27",
         "333 8th St, Los Angeles, CA 90001"
        ],
        [
         "6",
         "176562",
         "USB-C Charging Cable",
         "1",
         "11.95",
         "04/29/19 13:03",
         "381 Wilson St, San Francisco, CA 94016"
        ],
        [
         "7",
         "176563",
         "Bose SoundSport Headphones",
         "1",
         "99.99",
         "04/02/19 07:46",
         "668 Center St, Seattle, WA 98101"
        ],
        [
         "8",
         "176564",
         "USB-C Charging Cable",
         "1",
         "11.95",
         "04/12/19 10:58",
         "790 Ridge St, Atlanta, GA 30301"
        ],
        [
         "9",
         "176565",
         "Macbook Pro Laptop",
         "1",
         "1700.0",
         "04/24/19 10:38",
         "915 Willow St, San Francisco, CA 94016"
        ],
        [
         "10",
         "176566",
         "Wired Headphones",
         "1",
         "11.99",
         "04/08/19 14:05",
         "83 7th St, Boston, MA 02215"
        ],
        [
         "11",
         "176567",
         "Google Phone",
         "1",
         "600.0",
         "04/18/19 17:18",
         "444 7th St, Los Angeles, CA 90001"
        ],
        [
         "12",
         "176568",
         "Lightning Charging Cable",
         "1",
         "14.95",
         "04/15/19 12:18",
         "438 Elm St, Seattle, WA 98101"
        ],
        [
         "13",
         "176569",
         "27in 4K Gaming Monitor",
         "1",
         "389.99",
         "04/16/19 19:23",
         "657 Hill St, Dallas, TX 75001"
        ],
        [
         "14",
         "176570",
         "AA Batteries (4-pack)",
         "1",
         "3.84",
         "04/22/19 15:09",
         "186 12th St, Dallas, TX 75001"
        ],
        [
         "15",
         "176571",
         "Lightning Charging Cable",
         "1",
         "14.95",
         "04/19/19 14:29",
         "253 Johnson St, Atlanta, GA 30301"
        ],
        [
         "16",
         "176572",
         "Apple Airpods Headphones",
         "1",
         "150.0",
         "04/04/19 20:30",
         "149 Dogwood St, New York City, NY 10001"
        ],
        [
         "17",
         "176573",
         "USB-C Charging Cable",
         "1",
         "11.95",
         "04/27/19 18:41",
         "214 Chestnut St, San Francisco, CA 94016"
        ],
        [
         "18",
         "176574",
         "Google Phone",
         "1",
         "600.0",
         "04/03/19 19:42",
         "20 Hill St, Los Angeles, CA 90001"
        ],
        [
         "19",
         "176574",
         "USB-C Charging Cable",
         "1",
         "11.95",
         "04/03/19 19:42",
         "20 Hill St, Los Angeles, CA 90001"
        ],
        [
         "20",
         "176575",
         "AAA Batteries (4-pack)",
         "1",
         "2.99",
         "04/27/19 00:30",
         "433 Hill St, New York City, NY 10001"
        ],
        [
         "21",
         "176576",
         "Apple Airpods Headphones",
         "1",
         "150.0",
         "04/28/19 11:42",
         "771 Ridge St, Los Angeles, CA 90001"
        ],
        [
         "22",
         "176577",
         "Apple Airpods Headphones",
         "1",
         "150.0",
         "04/04/19 19:25",
         "260 Spruce St, Dallas, TX 75001"
        ],
        [
         "23",
         "176578",
         "Apple Airpods Headphones",
         "1",
         "150.0",
         "04/09/19 23:35",
         "513 Church St, Boston, MA 02215"
        ],
        [
         "24",
         "176579",
         "AA Batteries (4-pack)",
         "1",
         "3.84",
         "04/11/19 10:23",
         "886 Jefferson St, New York City, NY 10001"
        ],
        [
         "25",
         "176580",
         "USB-C Charging Cable",
         "1",
         "11.95",
         "04/05/19 00:35",
         "886 Willow St, Los Angeles, CA 90001"
        ],
        [
         "26",
         "176581",
         "iPhone",
         "1",
         "700.0",
         "04/09/19 21:38",
         "84 Jackson St, Boston, MA 02215"
        ],
        [
         "27",
         "176582",
         "Bose SoundSport Headphones",
         "1",
         "99.99",
         "04/27/19 12:20",
         "178 Lincoln St, Atlanta, GA 30301"
        ],
        [
         "28",
         "176583",
         "AAA Batteries (4-pack)",
         "2",
         "2.99",
         "04/20/19 12:00",
         "146 Jackson St, Portland, OR 97035"
        ],
        [
         "29",
         "176584",
         "Flatscreen TV",
         "1",
         "300.0",
         "04/24/19 20:39",
         "936 Church St, San Francisco, CA 94016"
        ],
        [
         "30",
         "176585",
         "Bose SoundSport Headphones",
         "1",
         "99.99",
         "04/07/19 11:31",
         "823 Highland St, Boston, MA 02215"
        ],
        [
         "32",
         "176586",
         "AAA Batteries (4-pack)",
         "2",
         "2.99",
         "04/10/19 17:00",
         "365 Center St, San Francisco, CA 94016"
        ],
        [
         "33",
         "176586",
         "Google Phone",
         "1",
         "600.0",
         "04/10/19 17:00",
         "365 Center St, San Francisco, CA 94016"
        ],
        [
         "34",
         "176587",
         "27in FHD Monitor",
         "1",
         "149.99",
         "04/29/19 19:38",
         "557 5th St, Los Angeles, CA 90001"
        ],
        [
         "35",
         "176588",
         "20in Monitor",
         "1",
         "109.99",
         "04/02/19 04:00",
         "765 Cherry St, Seattle, WA 98101"
        ],
        [
         "36",
         "176589",
         "Lightning Charging Cable",
         "1",
         "14.95",
         "04/04/19 12:23",
         "846 Highland St, Atlanta, GA 30301"
        ],
        [
         "37",
         "176590",
         "Google Phone",
         "1",
         "600.0",
         "04/11/19 11:46",
         "873 6th St, New York City, NY 10001"
        ],
        [
         "38",
         "176591",
         "Apple Airpods Headphones",
         "1",
         "150.0",
         "04/21/19 07:21",
         "600 Maple St, Austin, TX 73301"
        ],
        [
         "39",
         "176592",
         "USB-C Charging Cable",
         "1",
         "11.95",
         "04/27/19 13:04",
         "352 4th St, Los Angeles, CA 90001"
        ],
        [
         "40",
         "176593",
         "Lightning Charging Cable",
         "2",
         "14.95",
         "04/15/19 13:45",
         "906 7th St, Portland, OR 97035"
        ],
        [
         "41",
         "176594",
         "Wired Headphones",
         "1",
         "11.99",
         "04/17/19 23:04",
         "63 Maple St, San Francisco, CA 94016"
        ],
        [
         "42",
         "176595",
         "Wired Headphones",
         "3",
         "11.99",
         "04/02/19 09:11",
         "383 6th St, Los Angeles, CA 90001"
        ],
        [
         "43",
         "176596",
         "Apple Airpods Headphones",
         "1",
         "150.0",
         "04/27/19 20:11",
         "572 Meadow St, Dallas, TX 75001"
        ],
        [
         "44",
         "176597",
         "USB-C Charging Cable",
         "1",
         "11.95",
         "04/19/19 13:39",
         "681 11th St, San Francisco, CA 94016"
        ],
        [
         "45",
         "176598",
         "AAA Batteries (4-pack)",
         "2",
         "2.99",
         "04/21/19 20:33",
         "294 Park St, San Francisco, CA 94016"
        ],
        [
         "46",
         "176599",
         "Lightning Charging Cable",
         "1",
         "14.95",
         "04/11/19 15:25",
         "279 Maple St, New York City, NY 10001"
        ],
        [
         "47",
         "176600",
         "27in 4K Gaming Monitor",
         "1",
         "389.99",
         "04/30/19 15:54",
         "87 West St, Boston, MA 02215"
        ],
        [
         "48",
         "176601",
         "USB-C Charging Cable",
         "1",
         "11.95",
         "04/02/19 22:32",
         "754 10th St, Los Angeles, CA 90001"
        ],
        [
         "49",
         "176602",
         "Lightning Charging Cable",
         "1",
         "14.95",
         "04/30/19 09:39",
         "9 Jefferson St, Dallas, TX 75001"
        ],
        [
         "50",
         "176603",
         "USB-C Charging Cable",
         "1",
         "11.95",
         "04/01/19 07:46",
         "858 6th St, San Francisco, CA 94016"
        ],
        [
         "51",
         "176604",
         "USB-C Charging Cable",
         "1",
         "11.95",
         "04/02/19 10:57",
         "462 11th St, San Francisco, CA 94016"
        ]
       ],
       "shape": {
        "columns": 6,
        "rows": 173719
       }
      },
      "text/html": [
       "<div>\n",
       "<style scoped>\n",
       "    .dataframe tbody tr th:only-of-type {\n",
       "        vertical-align: middle;\n",
       "    }\n",
       "\n",
       "    .dataframe tbody tr th {\n",
       "        vertical-align: top;\n",
       "    }\n",
       "\n",
       "    .dataframe thead th {\n",
       "        text-align: right;\n",
       "    }\n",
       "</style>\n",
       "<table border=\"1\" class=\"dataframe\">\n",
       "  <thead>\n",
       "    <tr style=\"text-align: right;\">\n",
       "      <th></th>\n",
       "      <th>Order ID</th>\n",
       "      <th>Product</th>\n",
       "      <th>Quantity Ordered</th>\n",
       "      <th>Price Each</th>\n",
       "      <th>Order Date</th>\n",
       "      <th>Purchase Address</th>\n",
       "    </tr>\n",
       "  </thead>\n",
       "  <tbody>\n",
       "    <tr>\n",
       "      <th>0</th>\n",
       "      <td>176558</td>\n",
       "      <td>USB-C Charging Cable</td>\n",
       "      <td>2</td>\n",
       "      <td>11.95</td>\n",
       "      <td>04/19/19 08:46</td>\n",
       "      <td>917 1st St, Dallas, TX 75001</td>\n",
       "    </tr>\n",
       "    <tr>\n",
       "      <th>2</th>\n",
       "      <td>176559</td>\n",
       "      <td>Bose SoundSport Headphones</td>\n",
       "      <td>1</td>\n",
       "      <td>99.99</td>\n",
       "      <td>04/07/19 22:30</td>\n",
       "      <td>682 Chestnut St, Boston, MA 02215</td>\n",
       "    </tr>\n",
       "    <tr>\n",
       "      <th>3</th>\n",
       "      <td>176560</td>\n",
       "      <td>Google Phone</td>\n",
       "      <td>1</td>\n",
       "      <td>600.00</td>\n",
       "      <td>04/12/19 14:38</td>\n",
       "      <td>669 Spruce St, Los Angeles, CA 90001</td>\n",
       "    </tr>\n",
       "    <tr>\n",
       "      <th>4</th>\n",
       "      <td>176560</td>\n",
       "      <td>Wired Headphones</td>\n",
       "      <td>1</td>\n",
       "      <td>11.99</td>\n",
       "      <td>04/12/19 14:38</td>\n",
       "      <td>669 Spruce St, Los Angeles, CA 90001</td>\n",
       "    </tr>\n",
       "    <tr>\n",
       "      <th>5</th>\n",
       "      <td>176561</td>\n",
       "      <td>Wired Headphones</td>\n",
       "      <td>1</td>\n",
       "      <td>11.99</td>\n",
       "      <td>04/30/19 09:27</td>\n",
       "      <td>333 8th St, Los Angeles, CA 90001</td>\n",
       "    </tr>\n",
       "    <tr>\n",
       "      <th>...</th>\n",
       "      <td>...</td>\n",
       "      <td>...</td>\n",
       "      <td>...</td>\n",
       "      <td>...</td>\n",
       "      <td>...</td>\n",
       "      <td>...</td>\n",
       "    </tr>\n",
       "    <tr>\n",
       "      <th>174809</th>\n",
       "      <td>259353</td>\n",
       "      <td>AAA Batteries (4-pack)</td>\n",
       "      <td>3</td>\n",
       "      <td>2.99</td>\n",
       "      <td>09/17/19 20:56</td>\n",
       "      <td>840 Highland St, Los Angeles, CA 90001</td>\n",
       "    </tr>\n",
       "    <tr>\n",
       "      <th>174810</th>\n",
       "      <td>259354</td>\n",
       "      <td>iPhone</td>\n",
       "      <td>1</td>\n",
       "      <td>700.00</td>\n",
       "      <td>09/01/19 16:00</td>\n",
       "      <td>216 Dogwood St, San Francisco, CA 94016</td>\n",
       "    </tr>\n",
       "    <tr>\n",
       "      <th>174811</th>\n",
       "      <td>259355</td>\n",
       "      <td>iPhone</td>\n",
       "      <td>1</td>\n",
       "      <td>700.00</td>\n",
       "      <td>09/23/19 07:39</td>\n",
       "      <td>220 12th St, San Francisco, CA 94016</td>\n",
       "    </tr>\n",
       "    <tr>\n",
       "      <th>174812</th>\n",
       "      <td>259356</td>\n",
       "      <td>34in Ultrawide Monitor</td>\n",
       "      <td>1</td>\n",
       "      <td>379.99</td>\n",
       "      <td>09/19/19 17:30</td>\n",
       "      <td>511 Forest St, San Francisco, CA 94016</td>\n",
       "    </tr>\n",
       "    <tr>\n",
       "      <th>174813</th>\n",
       "      <td>259357</td>\n",
       "      <td>USB-C Charging Cable</td>\n",
       "      <td>1</td>\n",
       "      <td>11.95</td>\n",
       "      <td>09/30/19 00:18</td>\n",
       "      <td>250 Meadow St, San Francisco, CA 94016</td>\n",
       "    </tr>\n",
       "  </tbody>\n",
       "</table>\n",
       "<p>173719 rows × 6 columns</p>\n",
       "</div>"
      ],
      "text/plain": [
       "       Order ID                     Product Quantity Ordered  Price Each  \\\n",
       "0        176558        USB-C Charging Cable                2       11.95   \n",
       "2        176559  Bose SoundSport Headphones                1       99.99   \n",
       "3        176560                Google Phone                1      600.00   \n",
       "4        176560            Wired Headphones                1       11.99   \n",
       "5        176561            Wired Headphones                1       11.99   \n",
       "...         ...                         ...              ...         ...   \n",
       "174809   259353      AAA Batteries (4-pack)                3        2.99   \n",
       "174810   259354                      iPhone                1      700.00   \n",
       "174811   259355                      iPhone                1      700.00   \n",
       "174812   259356      34in Ultrawide Monitor                1      379.99   \n",
       "174813   259357        USB-C Charging Cable                1       11.95   \n",
       "\n",
       "            Order Date                         Purchase Address  \n",
       "0       04/19/19 08:46             917 1st St, Dallas, TX 75001  \n",
       "2       04/07/19 22:30        682 Chestnut St, Boston, MA 02215  \n",
       "3       04/12/19 14:38     669 Spruce St, Los Angeles, CA 90001  \n",
       "4       04/12/19 14:38     669 Spruce St, Los Angeles, CA 90001  \n",
       "5       04/30/19 09:27        333 8th St, Los Angeles, CA 90001  \n",
       "...                ...                                      ...  \n",
       "174809  09/17/19 20:56   840 Highland St, Los Angeles, CA 90001  \n",
       "174810  09/01/19 16:00  216 Dogwood St, San Francisco, CA 94016  \n",
       "174811  09/23/19 07:39     220 12th St, San Francisco, CA 94016  \n",
       "174812  09/19/19 17:30   511 Forest St, San Francisco, CA 94016  \n",
       "174813  09/30/19 00:18   250 Meadow St, San Francisco, CA 94016  \n",
       "\n",
       "[173719 rows x 6 columns]"
      ]
     },
     "execution_count": 15,
     "metadata": {},
     "output_type": "execute_result"
    }
   ],
   "source": [
    "all_data"
   ]
  },
  {
   "cell_type": "code",
   "execution_count": null,
   "id": "ae6fc313",
   "metadata": {},
   "outputs": [],
   "source": []
  }
 ],
 "metadata": {
  "kernelspec": {
   "display_name": "Python 3",
   "language": "python",
   "name": "python3"
  },
  "language_info": {
   "codemirror_mode": {
    "name": "ipython",
    "version": 3
   },
   "file_extension": ".py",
   "mimetype": "text/x-python",
   "name": "python",
   "nbconvert_exporter": "python",
   "pygments_lexer": "ipython3",
   "version": "3.13.5"
  }
 },
 "nbformat": 4,
 "nbformat_minor": 5
}
