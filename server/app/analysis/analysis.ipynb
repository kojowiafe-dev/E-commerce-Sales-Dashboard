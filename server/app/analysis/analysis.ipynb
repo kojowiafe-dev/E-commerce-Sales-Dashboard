{
 "cells": [
  {
   "cell_type": "code",
   "execution_count": 14,
   "id": "2b766fc3",
   "metadata": {},
   "outputs": [],
   "source": [
    "import pandas as pd\n",
    "\n",
    "all_data = pd.read_csv(\"../data/all_data.csv\")\n",
    "\n",
    "all_data = all_data.dropna(how=\"all\")\n",
    "\n",
    "all_data = all_data.drop_duplicates()\n",
    "\n",
    "all_data[\"Price Each\"] = pd.to_numeric(all_data[\"Price Each\"], errors=\"coerce\").fillna(0)\n",
    "\n",
    "# print(all_data[\"Price Each\"].isna().sum()) # if it's 0 then there's no null value\n",
    "# print(all_data[\"Quantity Ordered\"].isna().sum())\n",
    "# print(all_data[\"Order Date\"].isna().sum())\n",
    "# print(all_data[\"Product\"].isna().sum())\n",
    "# print(all_data[\"Purchase Address\"].isna().sum())\n",
    "# print(all_data[\"Order ID\"].isna().sum())\n",
    "\n",
    "\n",
    "all_data.to_csv(\"../data/all_data_cleaned.csv\", index=False)"
   ]
  },
  {
   "cell_type": "markdown",
   "id": "068219a3",
   "metadata": {},
   "source": [
    "**DATA MANIPULATIONS**"
   ]
  },
  {
   "cell_type": "code",
   "execution_count": null,
   "id": "9907b793",
   "metadata": {},
   "outputs": [],
   "source": []
  }
 ],
 "metadata": {
  "kernelspec": {
   "display_name": "Python 3",
   "language": "python",
   "name": "python3"
  },
  "language_info": {
   "codemirror_mode": {
    "name": "ipython",
    "version": 3
   },
   "file_extension": ".py",
   "mimetype": "text/x-python",
   "name": "python",
   "nbconvert_exporter": "python",
   "pygments_lexer": "ipython3",
   "version": "3.13.5"
  }
 },
 "nbformat": 4,
 "nbformat_minor": 5
}
